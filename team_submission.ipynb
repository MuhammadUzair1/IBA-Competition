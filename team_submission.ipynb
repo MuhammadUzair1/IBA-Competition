{
 "cells": [
  {
   "cell_type": "markdown",
   "metadata": {},
   "source": [
    "## **Problem Statement**\n",
    "- Have to predict investement failure"
   ]
  },
  {
   "cell_type": "code",
   "execution_count": 1,
   "metadata": {},
   "outputs": [
    {
     "name": "stderr",
     "output_type": "stream",
     "text": [
      "Matplotlib is building the font cache; this may take a moment.\n"
     ]
    }
   ],
   "source": [
    "import pandas as pd\n",
    "import numpy as np\n",
    "import matplotlib.pyplot as plt\n",
    "import seaborn as sns\n",
    "from sklearn.preprocessing import StandardScaler\n",
    "from sklearn.decomposition import PCA\n",
    "from sklearn.cluster import KMeans"
   ]
  },
  {
   "cell_type": "code",
   "execution_count": 21,
   "metadata": {},
   "outputs": [],
   "source": [
    "train = pd.read_csv(r'D:\\Uzair\\Programming\\Python\\Day.1.Classification\\train_data.csv')"
   ]
  },
  {
   "cell_type": "code",
   "execution_count": 22,
   "metadata": {},
   "outputs": [
    {
     "data": {
      "text/html": [
       "<div>\n",
       "<style scoped>\n",
       "    .dataframe tbody tr th:only-of-type {\n",
       "        vertical-align: middle;\n",
       "    }\n",
       "\n",
       "    .dataframe tbody tr th {\n",
       "        vertical-align: top;\n",
       "    }\n",
       "\n",
       "    .dataframe thead th {\n",
       "        text-align: right;\n",
       "    }\n",
       "</style>\n",
       "<table border=\"1\" class=\"dataframe\">\n",
       "  <thead>\n",
       "    <tr style=\"text-align: right;\">\n",
       "      <th></th>\n",
       "      <th>Investor_ID</th>\n",
       "      <th>Age</th>\n",
       "      <th>Annual_Income</th>\n",
       "      <th>Investment_Amount</th>\n",
       "      <th>Risk_Tolerance_Score</th>\n",
       "      <th>Months_of_Investing_Experience</th>\n",
       "      <th>Number_of_Active_Investments</th>\n",
       "      <th>Potential_Return_Rate</th>\n",
       "      <th>Investment_Duration</th>\n",
       "      <th>Investment_to_Income_Ratio</th>\n",
       "      <th>Education</th>\n",
       "      <th>Employment_Status</th>\n",
       "      <th>Marital_Status</th>\n",
       "      <th>Owns_Property</th>\n",
       "      <th>Has_Dependents</th>\n",
       "      <th>Investment_Sector</th>\n",
       "      <th>Has_Investment_Advisor</th>\n",
       "      <th>Investment_Failed</th>\n",
       "    </tr>\n",
       "  </thead>\n",
       "  <tbody>\n",
       "    <tr>\n",
       "      <th>0</th>\n",
       "      <td>0003HW9UAA</td>\n",
       "      <td>51.0</td>\n",
       "      <td>NaN</td>\n",
       "      <td>87300.0</td>\n",
       "      <td>358</td>\n",
       "      <td>13</td>\n",
       "      <td>3.0</td>\n",
       "      <td>18.10</td>\n",
       "      <td>12</td>\n",
       "      <td>0.85</td>\n",
       "      <td>Bachelor's</td>\n",
       "      <td>Part-time</td>\n",
       "      <td>NaN</td>\n",
       "      <td>No</td>\n",
       "      <td>NO</td>\n",
       "      <td>Other</td>\n",
       "      <td>True</td>\n",
       "      <td>0</td>\n",
       "    </tr>\n",
       "    <tr>\n",
       "      <th>1</th>\n",
       "      <td>000ELHLBPV</td>\n",
       "      <td>37.0</td>\n",
       "      <td>81658.0</td>\n",
       "      <td>152598.0</td>\n",
       "      <td>792</td>\n",
       "      <td>23</td>\n",
       "      <td>4.0</td>\n",
       "      <td>14.06</td>\n",
       "      <td>24</td>\n",
       "      <td>0.86</td>\n",
       "      <td>PhD</td>\n",
       "      <td>Self-employed</td>\n",
       "      <td>NaN</td>\n",
       "      <td>Yes</td>\n",
       "      <td>No</td>\n",
       "      <td>Auto</td>\n",
       "      <td>False</td>\n",
       "      <td>1</td>\n",
       "    </tr>\n",
       "    <tr>\n",
       "      <th>2</th>\n",
       "      <td>000G6CHJON</td>\n",
       "      <td>NaN</td>\n",
       "      <td>NaN</td>\n",
       "      <td>77767.0</td>\n",
       "      <td>359</td>\n",
       "      <td>57</td>\n",
       "      <td>4.0</td>\n",
       "      <td>4.31</td>\n",
       "      <td>60</td>\n",
       "      <td>0.60</td>\n",
       "      <td>Master's</td>\n",
       "      <td>Unemployed</td>\n",
       "      <td>Married</td>\n",
       "      <td>No</td>\n",
       "      <td>No</td>\n",
       "      <td>Education</td>\n",
       "      <td>True</td>\n",
       "      <td>0</td>\n",
       "    </tr>\n",
       "    <tr>\n",
       "      <th>3</th>\n",
       "      <td>000K09D0JB</td>\n",
       "      <td>54.0</td>\n",
       "      <td>42344.0</td>\n",
       "      <td>13261.0</td>\n",
       "      <td>366</td>\n",
       "      <td>115</td>\n",
       "      <td>1.0</td>\n",
       "      <td>NaN</td>\n",
       "      <td>60</td>\n",
       "      <td>0.21</td>\n",
       "      <td>PhD</td>\n",
       "      <td>Part-time</td>\n",
       "      <td>Divorced</td>\n",
       "      <td>No</td>\n",
       "      <td>No</td>\n",
       "      <td>Education</td>\n",
       "      <td>True</td>\n",
       "      <td>0</td>\n",
       "    </tr>\n",
       "    <tr>\n",
       "      <th>4</th>\n",
       "      <td>000NTH4YTU</td>\n",
       "      <td>63.0</td>\n",
       "      <td>48898.0</td>\n",
       "      <td>193990.0</td>\n",
       "      <td>792</td>\n",
       "      <td>53</td>\n",
       "      <td>4.0</td>\n",
       "      <td>5.65</td>\n",
       "      <td>48</td>\n",
       "      <td>0.82</td>\n",
       "      <td>Master's</td>\n",
       "      <td>Self-employed</td>\n",
       "      <td>Married</td>\n",
       "      <td>Yes</td>\n",
       "      <td>No</td>\n",
       "      <td>Business</td>\n",
       "      <td>True</td>\n",
       "      <td>0</td>\n",
       "    </tr>\n",
       "  </tbody>\n",
       "</table>\n",
       "</div>"
      ],
      "text/plain": [
       "  Investor_ID   Age  Annual_Income  Investment_Amount  Risk_Tolerance_Score  \\\n",
       "0  0003HW9UAA  51.0            NaN            87300.0                   358   \n",
       "1  000ELHLBPV  37.0        81658.0           152598.0                   792   \n",
       "2  000G6CHJON   NaN            NaN            77767.0                   359   \n",
       "3  000K09D0JB  54.0        42344.0            13261.0                   366   \n",
       "4  000NTH4YTU  63.0        48898.0           193990.0                   792   \n",
       "\n",
       "   Months_of_Investing_Experience  Number_of_Active_Investments  \\\n",
       "0                              13                           3.0   \n",
       "1                              23                           4.0   \n",
       "2                              57                           4.0   \n",
       "3                             115                           1.0   \n",
       "4                              53                           4.0   \n",
       "\n",
       "   Potential_Return_Rate  Investment_Duration  Investment_to_Income_Ratio  \\\n",
       "0                  18.10                   12                        0.85   \n",
       "1                  14.06                   24                        0.86   \n",
       "2                   4.31                   60                        0.60   \n",
       "3                    NaN                   60                        0.21   \n",
       "4                   5.65                   48                        0.82   \n",
       "\n",
       "    Education Employment_Status Marital_Status Owns_Property Has_Dependents  \\\n",
       "0  Bachelor's         Part-time            NaN            No             NO   \n",
       "1         PhD     Self-employed            NaN           Yes             No   \n",
       "2    Master's        Unemployed        Married            No             No   \n",
       "3         PhD         Part-time       Divorced            No             No   \n",
       "4    Master's     Self-employed        Married           Yes             No   \n",
       "\n",
       "  Investment_Sector Has_Investment_Advisor  Investment_Failed  \n",
       "0             Other                   True                  0  \n",
       "1              Auto                  False                  1  \n",
       "2         Education                   True                  0  \n",
       "3         Education                   True                  0  \n",
       "4          Business                   True                  0  "
      ]
     },
     "execution_count": 22,
     "metadata": {},
     "output_type": "execute_result"
    }
   ],
   "source": [
    "train.head()"
   ]
  },
  {
   "cell_type": "code",
   "execution_count": 23,
   "metadata": {},
   "outputs": [
    {
     "name": "stdout",
     "output_type": "stream",
     "text": [
      "<class 'pandas.core.frame.DataFrame'>\n",
      "RangeIndex: 225347 entries, 0 to 225346\n",
      "Data columns (total 18 columns):\n",
      " #   Column                          Non-Null Count   Dtype  \n",
      "---  ------                          --------------   -----  \n",
      " 0   Investor_ID                     225347 non-null  object \n",
      " 1   Age                             192507 non-null  float64\n",
      " 2   Annual_Income                   202721 non-null  float64\n",
      " 3   Investment_Amount               207314 non-null  float64\n",
      " 4   Risk_Tolerance_Score            225347 non-null  int64  \n",
      " 5   Months_of_Investing_Experience  225347 non-null  int64  \n",
      " 6   Number_of_Active_Investments    220835 non-null  float64\n",
      " 7   Potential_Return_Rate           214103 non-null  float64\n",
      " 8   Investment_Duration             225347 non-null  int64  \n",
      " 9   Investment_to_Income_Ratio      225347 non-null  float64\n",
      " 10  Education                       225347 non-null  object \n",
      " 11  Employment_Status               225347 non-null  object \n",
      " 12  Marital_Status                  182441 non-null  object \n",
      " 13  Owns_Property                   225347 non-null  object \n",
      " 14  Has_Dependents                  225347 non-null  object \n",
      " 15  Investment_Sector               225347 non-null  object \n",
      " 16  Has_Investment_Advisor          221498 non-null  object \n",
      " 17  Investment_Failed               225347 non-null  int64  \n",
      "dtypes: float64(6), int64(4), object(8)\n",
      "memory usage: 30.9+ MB\n"
     ]
    }
   ],
   "source": [
    "train.info()"
   ]
  },
  {
   "cell_type": "code",
   "execution_count": 24,
   "metadata": {},
   "outputs": [
    {
     "data": {
      "text/plain": [
       "(225347, 18)"
      ]
     },
     "execution_count": 24,
     "metadata": {},
     "output_type": "execute_result"
    }
   ],
   "source": [
    "train.shape"
   ]
  },
  {
   "cell_type": "markdown",
   "metadata": {},
   "source": [
    "### Information we get from the data\n",
    "* 225347 rows\n",
    "* 18 columns\n",
    "* 8 columns we have object\n",
    "* 6 columns we have float\n",
    "* 4 columns we have int"
   ]
  },
  {
   "cell_type": "markdown",
   "metadata": {},
   "source": [
    "### Data Preprocessing"
   ]
  },
  {
   "cell_type": "code",
   "execution_count": 25,
   "metadata": {},
   "outputs": [
    {
     "data": {
      "text/html": [
       "<div>\n",
       "<style scoped>\n",
       "    .dataframe tbody tr th:only-of-type {\n",
       "        vertical-align: middle;\n",
       "    }\n",
       "\n",
       "    .dataframe tbody tr th {\n",
       "        vertical-align: top;\n",
       "    }\n",
       "\n",
       "    .dataframe thead th {\n",
       "        text-align: right;\n",
       "    }\n",
       "</style>\n",
       "<table border=\"1\" class=\"dataframe\">\n",
       "  <thead>\n",
       "    <tr style=\"text-align: right;\">\n",
       "      <th></th>\n",
       "      <th>Age</th>\n",
       "      <th>Annual_Income</th>\n",
       "      <th>Investment_Amount</th>\n",
       "      <th>Risk_Tolerance_Score</th>\n",
       "      <th>Months_of_Investing_Experience</th>\n",
       "      <th>Number_of_Active_Investments</th>\n",
       "      <th>Potential_Return_Rate</th>\n",
       "      <th>Investment_Duration</th>\n",
       "      <th>Investment_to_Income_Ratio</th>\n",
       "      <th>Investment_Failed</th>\n",
       "    </tr>\n",
       "  </thead>\n",
       "  <tbody>\n",
       "    <tr>\n",
       "      <th>count</th>\n",
       "      <td>192507.000000</td>\n",
       "      <td>202721.000000</td>\n",
       "      <td>207314.000000</td>\n",
       "      <td>225347.000000</td>\n",
       "      <td>225347.000000</td>\n",
       "      <td>220835.000000</td>\n",
       "      <td>214103.000000</td>\n",
       "      <td>225347.000000</td>\n",
       "      <td>225347.000000</td>\n",
       "      <td>225347.000000</td>\n",
       "    </tr>\n",
       "    <tr>\n",
       "      <th>mean</th>\n",
       "      <td>46.026004</td>\n",
       "      <td>82793.709196</td>\n",
       "      <td>126997.235204</td>\n",
       "      <td>598.569708</td>\n",
       "      <td>59.832942</td>\n",
       "      <td>2.498413</td>\n",
       "      <td>13.417184</td>\n",
       "      <td>36.028756</td>\n",
       "      <td>0.499736</td>\n",
       "      <td>0.087212</td>\n",
       "    </tr>\n",
       "    <tr>\n",
       "      <th>std</th>\n",
       "      <td>19.066572</td>\n",
       "      <td>38856.728908</td>\n",
       "      <td>70766.875540</td>\n",
       "      <td>186.348988</td>\n",
       "      <td>34.617474</td>\n",
       "      <td>1.116728</td>\n",
       "      <td>6.628983</td>\n",
       "      <td>16.968128</td>\n",
       "      <td>0.230821</td>\n",
       "      <td>0.282146</td>\n",
       "    </tr>\n",
       "    <tr>\n",
       "      <th>min</th>\n",
       "      <td>18.000000</td>\n",
       "      <td>15000.000000</td>\n",
       "      <td>5000.000000</td>\n",
       "      <td>300.000000</td>\n",
       "      <td>0.000000</td>\n",
       "      <td>1.000000</td>\n",
       "      <td>2.000000</td>\n",
       "      <td>12.000000</td>\n",
       "      <td>0.100000</td>\n",
       "      <td>0.000000</td>\n",
       "    </tr>\n",
       "    <tr>\n",
       "      <th>25%</th>\n",
       "      <td>31.000000</td>\n",
       "      <td>49293.000000</td>\n",
       "      <td>65589.250000</td>\n",
       "      <td>445.000000</td>\n",
       "      <td>30.000000</td>\n",
       "      <td>2.000000</td>\n",
       "      <td>7.700000</td>\n",
       "      <td>24.000000</td>\n",
       "      <td>0.300000</td>\n",
       "      <td>0.000000</td>\n",
       "    </tr>\n",
       "    <tr>\n",
       "      <th>50%</th>\n",
       "      <td>45.000000</td>\n",
       "      <td>82908.000000</td>\n",
       "      <td>126790.500000</td>\n",
       "      <td>589.000000</td>\n",
       "      <td>60.000000</td>\n",
       "      <td>2.000000</td>\n",
       "      <td>13.350000</td>\n",
       "      <td>36.000000</td>\n",
       "      <td>0.500000</td>\n",
       "      <td>0.000000</td>\n",
       "    </tr>\n",
       "    <tr>\n",
       "      <th>75%</th>\n",
       "      <td>58.000000</td>\n",
       "      <td>116369.000000</td>\n",
       "      <td>188104.500000</td>\n",
       "      <td>735.000000</td>\n",
       "      <td>90.000000</td>\n",
       "      <td>3.000000</td>\n",
       "      <td>19.160000</td>\n",
       "      <td>48.000000</td>\n",
       "      <td>0.700000</td>\n",
       "      <td>0.000000</td>\n",
       "    </tr>\n",
       "    <tr>\n",
       "      <th>max</th>\n",
       "      <td>119.000000</td>\n",
       "      <td>149999.000000</td>\n",
       "      <td>249999.000000</td>\n",
       "      <td>1099.000000</td>\n",
       "      <td>119.000000</td>\n",
       "      <td>4.000000</td>\n",
       "      <td>25.000000</td>\n",
       "      <td>60.000000</td>\n",
       "      <td>0.900000</td>\n",
       "      <td>1.000000</td>\n",
       "    </tr>\n",
       "  </tbody>\n",
       "</table>\n",
       "</div>"
      ],
      "text/plain": [
       "                 Age  Annual_Income  Investment_Amount  Risk_Tolerance_Score  \\\n",
       "count  192507.000000  202721.000000      207314.000000         225347.000000   \n",
       "mean       46.026004   82793.709196      126997.235204            598.569708   \n",
       "std        19.066572   38856.728908       70766.875540            186.348988   \n",
       "min        18.000000   15000.000000        5000.000000            300.000000   \n",
       "25%        31.000000   49293.000000       65589.250000            445.000000   \n",
       "50%        45.000000   82908.000000      126790.500000            589.000000   \n",
       "75%        58.000000  116369.000000      188104.500000            735.000000   \n",
       "max       119.000000  149999.000000      249999.000000           1099.000000   \n",
       "\n",
       "       Months_of_Investing_Experience  Number_of_Active_Investments  \\\n",
       "count                   225347.000000                 220835.000000   \n",
       "mean                        59.832942                      2.498413   \n",
       "std                         34.617474                      1.116728   \n",
       "min                          0.000000                      1.000000   \n",
       "25%                         30.000000                      2.000000   \n",
       "50%                         60.000000                      2.000000   \n",
       "75%                         90.000000                      3.000000   \n",
       "max                        119.000000                      4.000000   \n",
       "\n",
       "       Potential_Return_Rate  Investment_Duration  Investment_to_Income_Ratio  \\\n",
       "count          214103.000000        225347.000000               225347.000000   \n",
       "mean               13.417184            36.028756                    0.499736   \n",
       "std                 6.628983            16.968128                    0.230821   \n",
       "min                 2.000000            12.000000                    0.100000   \n",
       "25%                 7.700000            24.000000                    0.300000   \n",
       "50%                13.350000            36.000000                    0.500000   \n",
       "75%                19.160000            48.000000                    0.700000   \n",
       "max                25.000000            60.000000                    0.900000   \n",
       "\n",
       "       Investment_Failed  \n",
       "count      225347.000000  \n",
       "mean            0.087212  \n",
       "std             0.282146  \n",
       "min             0.000000  \n",
       "25%             0.000000  \n",
       "50%             0.000000  \n",
       "75%             0.000000  \n",
       "max             1.000000  "
      ]
     },
     "execution_count": 25,
     "metadata": {},
     "output_type": "execute_result"
    }
   ],
   "source": [
    "train.describe()"
   ]
  },
  {
   "cell_type": "code",
   "execution_count": 26,
   "metadata": {},
   "outputs": [
    {
     "data": {
      "text/html": [
       "<div>\n",
       "<style scoped>\n",
       "    .dataframe tbody tr th:only-of-type {\n",
       "        vertical-align: middle;\n",
       "    }\n",
       "\n",
       "    .dataframe tbody tr th {\n",
       "        vertical-align: top;\n",
       "    }\n",
       "\n",
       "    .dataframe thead th {\n",
       "        text-align: right;\n",
       "    }\n",
       "</style>\n",
       "<table border=\"1\" class=\"dataframe\">\n",
       "  <thead>\n",
       "    <tr style=\"text-align: right;\">\n",
       "      <th></th>\n",
       "      <th>Investor_ID</th>\n",
       "      <th>Education</th>\n",
       "      <th>Employment_Status</th>\n",
       "      <th>Marital_Status</th>\n",
       "      <th>Owns_Property</th>\n",
       "      <th>Has_Dependents</th>\n",
       "      <th>Investment_Sector</th>\n",
       "      <th>Has_Investment_Advisor</th>\n",
       "    </tr>\n",
       "  </thead>\n",
       "  <tbody>\n",
       "    <tr>\n",
       "      <th>count</th>\n",
       "      <td>225347</td>\n",
       "      <td>225347</td>\n",
       "      <td>225347</td>\n",
       "      <td>182441</td>\n",
       "      <td>225347</td>\n",
       "      <td>225347</td>\n",
       "      <td>225347</td>\n",
       "      <td>221498</td>\n",
       "    </tr>\n",
       "    <tr>\n",
       "      <th>unique</th>\n",
       "      <td>225347</td>\n",
       "      <td>4</td>\n",
       "      <td>9</td>\n",
       "      <td>6</td>\n",
       "      <td>11</td>\n",
       "      <td>11</td>\n",
       "      <td>5</td>\n",
       "      <td>2</td>\n",
       "    </tr>\n",
       "    <tr>\n",
       "      <th>top</th>\n",
       "      <td>0003HW9UAA</td>\n",
       "      <td>Bachelor's</td>\n",
       "      <td>Part-time</td>\n",
       "      <td>Divorced</td>\n",
       "      <td>No</td>\n",
       "      <td>No</td>\n",
       "      <td>Home</td>\n",
       "      <td>True</td>\n",
       "    </tr>\n",
       "    <tr>\n",
       "      <th>freq</th>\n",
       "      <td>1</td>\n",
       "      <td>56748</td>\n",
       "      <td>52525</td>\n",
       "      <td>39174</td>\n",
       "      <td>94232</td>\n",
       "      <td>88990</td>\n",
       "      <td>45381</td>\n",
       "      <td>110975</td>\n",
       "    </tr>\n",
       "  </tbody>\n",
       "</table>\n",
       "</div>"
      ],
      "text/plain": [
       "       Investor_ID   Education Employment_Status Marital_Status Owns_Property  \\\n",
       "count       225347      225347            225347         182441        225347   \n",
       "unique      225347           4                 9              6            11   \n",
       "top     0003HW9UAA  Bachelor's         Part-time       Divorced            No   \n",
       "freq             1       56748             52525          39174         94232   \n",
       "\n",
       "       Has_Dependents Investment_Sector Has_Investment_Advisor  \n",
       "count          225347            225347                 221498  \n",
       "unique             11                 5                      2  \n",
       "top                No              Home                   True  \n",
       "freq            88990             45381                 110975  "
      ]
     },
     "execution_count": 26,
     "metadata": {},
     "output_type": "execute_result"
    }
   ],
   "source": [
    "train.describe(include='O')"
   ]
  },
  {
   "cell_type": "code",
   "execution_count": 27,
   "metadata": {},
   "outputs": [
    {
     "data": {
      "text/plain": [
       "Investor_ID                           0\n",
       "Age                               32840\n",
       "Annual_Income                     22626\n",
       "Investment_Amount                 18033\n",
       "Risk_Tolerance_Score                  0\n",
       "Months_of_Investing_Experience        0\n",
       "Number_of_Active_Investments       4512\n",
       "Potential_Return_Rate             11244\n",
       "Investment_Duration                   0\n",
       "Investment_to_Income_Ratio            0\n",
       "Education                             0\n",
       "Employment_Status                     0\n",
       "Marital_Status                    42906\n",
       "Owns_Property                         0\n",
       "Has_Dependents                        0\n",
       "Investment_Sector                     0\n",
       "Has_Investment_Advisor             3849\n",
       "Investment_Failed                     0\n",
       "dtype: int64"
      ]
     },
     "execution_count": 27,
     "metadata": {},
     "output_type": "execute_result"
    }
   ],
   "source": [
    "train.isnull().sum()  #checking missing values"
   ]
  },
  {
   "cell_type": "code",
   "execution_count": 28,
   "metadata": {},
   "outputs": [
    {
     "data": {
      "text/plain": [
       "0.19039969469307336"
      ]
     },
     "execution_count": 28,
     "metadata": {},
     "output_type": "execute_result"
    }
   ],
   "source": [
    "train.Marital_Status.isnull().sum()/train.shape[0]  #checking percentage of missing values"
   ]
  },
  {
   "cell_type": "markdown",
   "metadata": {},
   "source": [
    "Maximum 20% of data is empty"
   ]
  },
  {
   "cell_type": "markdown",
   "metadata": {},
   "source": [
    "## Separation of Categorical (discrete) or Numerical (Contnious)"
   ]
  },
  {
   "cell_type": "code",
   "execution_count": 29,
   "metadata": {},
   "outputs": [
    {
     "name": "stdout",
     "output_type": "stream",
     "text": [
      "Number of Categorical Features we have in data is : 8  \n",
      "Here is Listed features ['Investor_ID', 'Education', 'Employment_Status', 'Marital_Status', 'Owns_Property', 'Has_Dependents', 'Investment_Sector', 'Has_Investment_Advisor'] \n"
     ]
    }
   ],
   "source": [
    "# Checking Categorical Features in dataset and counting it\n",
    "\n",
    "cat_features = [columns_name for columns_name in train.columns if train[columns_name].dtype == \"O\"]\n",
    "print(\"Number of Categorical Features we have in data is : {}  \".format(len(cat_features)))\n",
    "print(\"Here is Listed features {} \".format(cat_features))"
   ]
  },
  {
   "cell_type": "code",
   "execution_count": 30,
   "metadata": {},
   "outputs": [
    {
     "name": "stdout",
     "output_type": "stream",
     "text": [
      "Number of Numerical Features we have in data is : 10  \n",
      "Here is the Listed Numerical features ['Age', 'Annual_Income', 'Investment_Amount', 'Risk_Tolerance_Score', 'Months_of_Investing_Experience', 'Number_of_Active_Investments', 'Potential_Return_Rate', 'Investment_Duration', 'Investment_to_Income_Ratio', 'Investment_Failed'] \n"
     ]
    }
   ],
   "source": [
    "# Checking Numerical Features in dataset and counting it\n",
    "\n",
    "num_features = [columns_name for columns_name in train.columns if train[columns_name].dtype != \"O\"]\n",
    "print(\"Number of Numerical Features we have in data is : {}  \".format(len(num_features)))\n",
    "print(\"Here is the Listed Numerical features {} \".format(num_features))"
   ]
  },
  {
   "cell_type": "markdown",
   "metadata": {},
   "source": [
    "## Checking Cardinality of Data\n",
    "* number of unique vaues in cardinality could be\n",
    "* if there are more unique values then it is hard to do label encoding\n",
    "* also effect on the efficiency of the model"
   ]
  },
  {
   "cell_type": "code",
   "execution_count": 31,
   "metadata": {},
   "outputs": [
    {
     "name": "stdout",
     "output_type": "stream",
     "text": [
      "The Cardinality of each column Investor_ID : 225347 \n",
      "The Cardinality of each column Education : 4 \n",
      "The Cardinality of each column Employment_Status : 9 \n",
      "The Cardinality of each column Marital_Status : 7 \n",
      "The Cardinality of each column Owns_Property : 11 \n",
      "The Cardinality of each column Has_Dependents : 11 \n",
      "The Cardinality of each column Investment_Sector : 5 \n",
      "The Cardinality of each column Has_Investment_Advisor : 3 \n"
     ]
    }
   ],
   "source": [
    "for i  in cat_features:\n",
    "  count = len(train[i].unique())\n",
    "  print(\"The Cardinality of each column {} : {} \".format(i,count))\n",
    "\n",
    "# hence the unqiue value in  date column is very large, Thus\n",
    "# Cardinality of Data is high which poses several problem to the model in terms of efficiency\n",
    "# because we need to do numerical encoding or create dummies"
   ]
  },
  {
   "cell_type": "markdown",
   "metadata": {},
   "source": [
    "## Handling Missing values"
   ]
  },
  {
   "cell_type": "markdown",
   "metadata": {},
   "source": [
    "### For Categorical Values"
   ]
  },
  {
   "cell_type": "code",
   "execution_count": 32,
   "metadata": {},
   "outputs": [],
   "source": [
    "categorical_features = [column_name for column_name in train.columns if train[column_name].dtype ==\"O\"]"
   ]
  },
  {
   "cell_type": "code",
   "execution_count": 33,
   "metadata": {},
   "outputs": [
    {
     "data": {
      "text/plain": [
       "['Investor_ID',\n",
       " 'Education',\n",
       " 'Employment_Status',\n",
       " 'Marital_Status',\n",
       " 'Owns_Property',\n",
       " 'Has_Dependents',\n",
       " 'Investment_Sector',\n",
       " 'Has_Investment_Advisor']"
      ]
     },
     "execution_count": 33,
     "metadata": {},
     "output_type": "execute_result"
    }
   ],
   "source": [
    "categorical_features    # now we have the features othe than date"
   ]
  },
  {
   "cell_type": "code",
   "execution_count": 34,
   "metadata": {},
   "outputs": [
    {
     "name": "stdout",
     "output_type": "stream",
     "text": [
      "Investor_ID                   0\n",
      "Education                     0\n",
      "Employment_Status             0\n",
      "Marital_Status            42906\n",
      "Owns_Property                 0\n",
      "Has_Dependents                0\n",
      "Investment_Sector             0\n",
      "Has_Investment_Advisor     3849\n",
      "dtype: int64\n"
     ]
    }
   ],
   "source": [
    "missing_cat = train[categorical_features].isnull().sum() # Total missing values\n",
    "print(missing_cat)"
   ]
  },
  {
   "cell_type": "code",
   "execution_count": 35,
   "metadata": {},
   "outputs": [
    {
     "data": {
      "text/plain": [
       "([0, 1, 2, 3, 4, 5, 6, 7],\n",
       " [Text(0, 0, 'Investor_ID'),\n",
       "  Text(1, 0, 'Education'),\n",
       "  Text(2, 0, 'Employment_Status'),\n",
       "  Text(3, 0, 'Marital_Status'),\n",
       "  Text(4, 0, 'Owns_Property'),\n",
       "  Text(5, 0, 'Has_Dependents'),\n",
       "  Text(6, 0, 'Investment_Sector'),\n",
       "  Text(7, 0, 'Has_Investment_Advisor')])"
      ]
     },
     "execution_count": 35,
     "metadata": {},
     "output_type": "execute_result"
    },
    {
     "data": {
      "image/png": "[encoded data removed]",
      "text/plain": [
       "<Figure size 800x400 with 1 Axes>"
      ]
     },
     "metadata": {},
     "output_type": "display_data"
    }
   ],
   "source": [
    "plt.figure(figsize= (8,4))\n",
    "plt.bar(missing_cat.index,missing_cat.values ) # by visualization we can see that winDir3pm has large number of missing values\n",
    "plt.title(\"Missing values in Categorical Columns\")\n",
    "plt.xticks(rotation = 90)"
   ]
  },
  {
   "cell_type": "code",
   "execution_count": 36,
   "metadata": {},
   "outputs": [
    {
     "name": "stderr",
     "output_type": "stream",
     "text": [
      "C:\\Users\\Uzair\\AppData\\Local\\Temp\\ipykernel_13884\\3557357769.py:1: FutureWarning: Downcasting object dtype arrays on .fillna, .ffill, .bfill is deprecated and will change in a future version. Call result.infer_objects(copy=False) instead. To opt-in to the future behavior, set `pd.set_option('future.no_silent_downcasting', True)`\n",
      "  train['Has_Investment_Advisor'].fillna(train['Has_Investment_Advisor'].mode()[0])\n"
     ]
    },
    {
     "data": {
      "text/plain": [
       "0          True\n",
       "1         False\n",
       "2          True\n",
       "3          True\n",
       "4          True\n",
       "          ...  \n",
       "225342    False\n",
       "225343    False\n",
       "225344    False\n",
       "225345    False\n",
       "225346    False\n",
       "Name: Has_Investment_Advisor, Length: 225347, dtype: bool"
      ]
     },
     "execution_count": 36,
     "metadata": {},
     "output_type": "execute_result"
    }
   ],
   "source": [
    "train['Has_Investment_Advisor'].fillna(train['Has_Investment_Advisor'].mode()[0])"
   ]
  },
  {
   "cell_type": "markdown",
   "metadata": {},
   "source": [
    "### For Numerical Columns"
   ]
  },
  {
   "cell_type": "code",
   "execution_count": 37,
   "metadata": {},
   "outputs": [],
   "source": [
    "train.drop(columns=['Investor_ID'],inplace=True)"
   ]
  },
  {
   "cell_type": "code",
   "execution_count": 38,
   "metadata": {},
   "outputs": [
    {
     "name": "stderr",
     "output_type": "stream",
     "text": [
      "C:\\Users\\Uzair\\AppData\\Local\\Temp\\ipykernel_13884\\1175729712.py:1: FutureWarning: A value is trying to be set on a copy of a DataFrame or Series through chained assignment using an inplace method.\n",
      "The behavior will change in pandas 3.0. This inplace method will never work because the intermediate object on which we are setting values always behaves as a copy.\n",
      "\n",
      "For example, when doing 'df[col].method(value, inplace=True)', try using 'df.method({col: value}, inplace=True)' or df[col] = df[col].method(value) instead, to perform the operation inplace on the original object.\n",
      "\n",
      "\n",
      "  train.Number_of_Active_Investments.ffill(inplace=True)\n"
     ]
    }
   ],
   "source": [
    "train.Number_of_Active_Investments.ffill(inplace=True)"
   ]
  },
  {
   "cell_type": "code",
   "execution_count": 39,
   "metadata": {},
   "outputs": [
    {
     "data": {
      "text/plain": [
       "Age                               32840\n",
       "Annual_Income                     22626\n",
       "Investment_Amount                 18033\n",
       "Risk_Tolerance_Score                  0\n",
       "Months_of_Investing_Experience        0\n",
       "Number_of_Active_Investments          0\n",
       "Potential_Return_Rate             11244\n",
       "Investment_Duration                   0\n",
       "Investment_to_Income_Ratio            0\n",
       "Education                             0\n",
       "Employment_Status                     0\n",
       "Marital_Status                    42906\n",
       "Owns_Property                         0\n",
       "Has_Dependents                        0\n",
       "Investment_Sector                     0\n",
       "Has_Investment_Advisor             3849\n",
       "Investment_Failed                     0\n",
       "dtype: int64"
      ]
     },
     "execution_count": 39,
     "metadata": {},
     "output_type": "execute_result"
    }
   ],
   "source": [
    "train.isnull().sum()"
   ]
  },
  {
   "cell_type": "markdown",
   "metadata": {},
   "source": [
    "#### Checking Correlation of Columns having null values to decide whether to remove them or not"
   ]
  },
  {
   "cell_type": "code",
   "execution_count": 44,
   "metadata": {},
   "outputs": [],
   "source": [
    "#Encoding target Variable\n",
    "from sklearn.preprocessing import LabelEncoder\n",
    "\n",
    "le = LabelEncoder()\n",
    "train['Investment_Failed'] = le.fit_transform(train['Has_Investment_Advisor'])"
   ]
  },
  {
   "cell_type": "code",
   "execution_count": 48,
   "metadata": {},
   "outputs": [
    {
     "data": {
      "text/plain": [
       "'Investment_Failed'"
      ]
     },
     "execution_count": 48,
     "metadata": {},
     "output_type": "execute_result"
    }
   ],
   "source": [
    "num_features.pop()"
   ]
  },
  {
   "cell_type": "code",
   "execution_count": 49,
   "metadata": {},
   "outputs": [
    {
     "data": {
      "image/png": "[encoded data removed]",
      "text/plain": [
       "<Figure size 640x480 with 2 Axes>"
      ]
     },
     "metadata": {},
     "output_type": "display_data"
    }
   ],
   "source": [
    "sns.heatmap(train[num_features].corr())\n",
    "plt.show()"
   ]
  },
  {
   "cell_type": "markdown",
   "metadata": {},
   "source": [
    "This proves us that there is no correlation between Age and Investement Failed. Therefore, dropping the whole column"
   ]
  },
  {
   "cell_type": "code",
   "execution_count": 50,
   "metadata": {},
   "outputs": [],
   "source": [
    "train.drop(columns=['Age'],inplace=True)    # Age is not highly correlated with Investment_Failed"
   ]
  },
  {
   "cell_type": "markdown",
   "metadata": {},
   "source": [
    "##### Filling Missing Values in Amount Income and Investment Amount"
   ]
  },
  {
   "cell_type": "code",
   "execution_count": 51,
   "metadata": {},
   "outputs": [
    {
     "name": "stderr",
     "output_type": "stream",
     "text": [
      "C:\\Users\\Uzair\\AppData\\Local\\Temp\\ipykernel_13884\\3915587855.py:5: FutureWarning: A value is trying to be set on a copy of a DataFrame or Series through chained assignment using an inplace method.\n",
      "The behavior will change in pandas 3.0. This inplace method will never work because the intermediate object on which we are setting values always behaves as a copy.\n",
      "\n",
      "For example, when doing 'df[col].method(value, inplace=True)', try using 'df.method({col: value}, inplace=True)' or df[col] = df[col].method(value) instead, to perform the operation inplace on the original object.\n",
      "\n",
      "\n",
      "  train['Annual_Income'].replace('', np.nan, inplace=True)\n",
      "C:\\Users\\Uzair\\AppData\\Local\\Temp\\ipykernel_13884\\3915587855.py:6: FutureWarning: A value is trying to be set on a copy of a DataFrame or Series through chained assignment using an inplace method.\n",
      "The behavior will change in pandas 3.0. This inplace method will never work because the intermediate object on which we are setting values always behaves as a copy.\n",
      "\n",
      "For example, when doing 'df[col].method(value, inplace=True)', try using 'df.method({col: value}, inplace=True)' or df[col] = df[col].method(value) instead, to perform the operation inplace on the original object.\n",
      "\n",
      "\n",
      "  train['Investment_Amount'].replace('', np.nan, inplace=True)\n"
     ]
    }
   ],
   "source": [
    "from sklearn.impute import KNNImputer\n",
    "\n",
    "# Assuming df is your DataFrame and 'Annual_Income' and 'Investment_Amount' are columns\n",
    "# Replace NaN values with np.nan\n",
    "train['Annual_Income'].replace('', np.nan, inplace=True)\n",
    "train['Investment_Amount'].replace('', np.nan, inplace=True)\n",
    "\n",
    "# Initialize KNNImputer\n",
    "imputer = KNNImputer(n_neighbors=5, weights='uniform', metric='nan_euclidean')\n",
    "\n",
    "# Apply the imputer\n",
    "train[['Annual_Income', 'Investment_Amount']] = imputer.fit_transform(train[['Annual_Income', 'Investment_Amount']])"
   ]
  },
  {
   "cell_type": "code",
   "execution_count": null,
   "metadata": {},
   "outputs": [],
   "source": []
  }
 ],
 "metadata": {
  "kernelspec": {
   "display_name": "Python 3",
   "language": "python",
   "name": "python3"
  },
  "language_info": {
   "codemirror_mode": {
    "name": "ipython",
    "version": 3
   },
   "file_extension": ".py",
   "mimetype": "text/x-python",
   "name": "python",
   "nbconvert_exporter": "python",
   "pygments_lexer": "ipython3",
   "version": "3.10.11"
  }
 },
 "nbformat": 4,
 "nbformat_minor": 2
}
